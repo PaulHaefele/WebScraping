{
 "cells": [
  {
   "cell_type": "code",
   "execution_count": 1,
   "id": "fbb4e1bb",
   "metadata": {},
   "outputs": [],
   "source": [
    "#import libraries\n",
    "\n",
    "import csv\n",
    "from bs4 import BeautifulSoup\n",
    "from selenium import webdriver"
   ]
  },
  {
   "cell_type": "code",
   "execution_count": 2,
   "id": "aa5b39ac",
   "metadata": {},
   "outputs": [],
   "source": [
    "driver = webdriver.Chrome()"
   ]
  },
  {
   "cell_type": "code",
   "execution_count": 3,
   "id": "0546b291",
   "metadata": {},
   "outputs": [],
   "source": [
    "url = 'https://amazon.com'\n",
    "driver.get(url)"
   ]
  },
  {
   "cell_type": "code",
   "execution_count": 4,
   "id": "6eb8efdf",
   "metadata": {},
   "outputs": [],
   "source": [
    "#Define function to get the url using an input search term\n",
    "\n",
    "def get_url(search_term):\n",
    "    \n",
    "    template = 'https://www.amazon.com/s?k={}&sprefix=migraine%2Caps%2C140&ref=nb_sb_ss_ts-doa-p_1_8'\n",
    "    search_term = search_term.replace(' ', '+')\n",
    "    return template.format(search_term)"
   ]
  },
  {
   "cell_type": "code",
   "execution_count": 5,
   "id": "56e4d94e",
   "metadata": {},
   "outputs": [],
   "source": [
    "url = get_url('migraine relief cap')\n",
    "driver.get(url)"
   ]
  },
  {
   "cell_type": "code",
   "execution_count": 6,
   "id": "f6714b1c",
   "metadata": {},
   "outputs": [
    {
     "data": {
      "text/plain": [
       "60"
      ]
     },
     "execution_count": 6,
     "metadata": {},
     "output_type": "execute_result"
    }
   ],
   "source": [
    "soup = BeautifulSoup(driver.page_source, 'html.parser')\n",
    "results = soup.find_all('div', {'data-component-type': 's-search-result'})\n",
    "len(results)"
   ]
  },
  {
   "cell_type": "code",
   "execution_count": 7,
   "id": "d21b0044",
   "metadata": {},
   "outputs": [],
   "source": [
    "item = results[0]\n",
    "atag = item.h2.a\n",
    "description = atag.text.strip()\n",
    "url = 'https://amazon.com' + atag.get('href')"
   ]
  },
  {
   "cell_type": "code",
   "execution_count": 8,
   "id": "24126984",
   "metadata": {},
   "outputs": [],
   "source": [
    "price_parent = item.find('span', 'a-price')\n",
    "price = price_parent.find('span', 'a-offscreen').text"
   ]
  },
  {
   "cell_type": "code",
   "execution_count": 9,
   "id": "c9078c74",
   "metadata": {},
   "outputs": [],
   "source": [
    "rating = item.i.text"
   ]
  },
  {
   "cell_type": "code",
   "execution_count": 10,
   "id": "ebd821a9",
   "metadata": {},
   "outputs": [
    {
     "name": "stdout",
     "output_type": "stream",
     "text": [
      "18,756\n"
     ]
    }
   ],
   "source": [
    "review_count = item.find('span', {'class':'a-size-base s-underline-text'}).text\n",
    "print(review_count)"
   ]
  },
  {
   "cell_type": "code",
   "execution_count": 11,
   "id": "c287b9df",
   "metadata": {},
   "outputs": [],
   "source": [
    "#Function to apply code above to every item on page\n",
    "#Some listings may not have all items to return\n",
    "#If no price skip record\n",
    "\n",
    "def extract_record(item):\n",
    "    \n",
    "    #Description and url\n",
    "    atag = item.h2.a\n",
    "    description = atag.text.strip()\n",
    "    url = 'https://amazon.com' + atag.get('href')\n",
    "    \n",
    "    #Price\n",
    "    try:\n",
    "        price_parent = item.find('span', 'a-price')\n",
    "        price = price_parent.find('span', 'a-offscreen').text\n",
    "    except AttributeError:\n",
    "        return\n",
    "    \n",
    "    #Review Count\n",
    "    try:\n",
    "        rating = item.i.text\n",
    "        review_count = item.find('span', {'class':'a-size-base s-underline-text'}).text\n",
    "    except AttributeError:\n",
    "        rating = ''\n",
    "        review_count = ''\n",
    "    \n",
    "    result = (description, price, rating, review_count, url)\n",
    "    \n",
    "    return result"
   ]
  },
  {
   "cell_type": "code",
   "execution_count": 13,
   "id": "dcb4dd97",
   "metadata": {},
   "outputs": [],
   "source": [
    "#Records list to contain all records on page\n",
    "records = []\n",
    "results = soup.find_all('div', {'data-component-type': 's-search-result'})\n",
    "\n",
    "for item in results:\n",
    "    record = extract_record(item)\n",
    "    if record:\n",
    "        records.append(record)"
   ]
  },
  {
   "cell_type": "code",
   "execution_count": 17,
   "id": "358a1c9e",
   "metadata": {},
   "outputs": [
    {
     "data": {
      "text/plain": [
       "('TheraICE Rx Form Fitting Gel Ice Headache / Migraine Relief Hat, Cold Therapy Migraine Relief Cap / Migraine Ice Head Wrap Ice Pack Mask, Cold Compress Headache Relief Cap for Tension, Sinus & Stress',\n",
       " '$36.95',\n",
       " '4.6 out of 5 stars',\n",
       " '18,756',\n",
       " 'https://amazon.com/gp/slredirect/picassoRedirect.html/ref=pa_sp_atf_aps_sr_pg1_1?ie=UTF8&adId=A0431364D7AJD80MN94N&qualifier=1670324802&id=170761706596616&widgetName=sp_atf&url=%2FTheraICE-Rx-Headache-Comfortable-Stretchable%2Fdp%2FB082WN9NJL%2Fref%3Dsr_1_1_sspa%3Fkeywords%3Dmigraine%2Brelief%2Bcap%26qid%3D1670324802%26sprefix%3Dmigraine%252Caps%252C140%26sr%3D8-1-spons%26psc%3D1')"
      ]
     },
     "execution_count": 17,
     "metadata": {},
     "output_type": "execute_result"
    }
   ],
   "source": [
    "#Print first record on page\n",
    "records[0]"
   ]
  },
  {
   "cell_type": "code",
   "execution_count": 16,
   "id": "84c1b1cd",
   "metadata": {},
   "outputs": [
    {
     "name": "stdout",
     "output_type": "stream",
     "text": [
      "$36.95\n",
      "$27.99\n",
      "$24.99\n",
      "$16.99\n",
      "$19.84\n",
      "$24.99\n",
      "$24.99\n",
      "$27.99\n",
      "$36.95\n",
      "$26.99\n",
      "$16.99\n",
      "$27.99\n",
      "$23.99\n",
      "$17.59\n",
      "$9.89\n",
      "$11.99\n",
      "$12.99\n",
      "$27.99\n",
      "$26.99\n",
      "$13.99\n",
      "$25.99\n",
      "$11.99\n",
      "$19.99\n",
      "$24.99\n",
      "$21.99\n",
      "$26.99\n",
      "$39.99\n",
      "$15.99\n",
      "$13.99\n",
      "$22.99\n",
      "$26.99\n",
      "$19.99\n",
      "$16.99\n",
      "$17.99\n",
      "$17.59\n",
      "$15.99\n",
      "$19.99\n",
      "$27.99\n",
      "$17.89\n",
      "$17.99\n",
      "$12.99\n",
      "$11.99\n",
      "$41.99\n",
      "$13.99\n",
      "$17.21\n",
      "$16.99\n",
      "$26.99\n",
      "$16.96\n",
      "$19.99\n",
      "$19.99\n",
      "$38.99\n",
      "$25.99\n",
      "$19.99\n",
      "$12.99\n",
      "$27.99\n",
      "$10.99\n",
      "$19.99\n",
      "$21.99\n",
      "$26.99\n",
      "$32.99\n"
     ]
    }
   ],
   "source": [
    "#Print all prices on page\n",
    "\n",
    "for row in records:\n",
    "    print(row[1])"
   ]
  },
  {
   "cell_type": "code",
   "execution_count": 18,
   "id": "d14eb9f7",
   "metadata": {},
   "outputs": [],
   "source": [
    "#Amazon adds page# to url when searching through. Adjust function to apply this principal\n",
    "\n",
    "def get_url(search_term):\n",
    "    \n",
    "    template = 'https://www.amazon.com/s?k={}&sprefix=migraine%2Caps%2C140&ref=nb_sb_ss_ts-doa-p_1_8'\n",
    "    search_term = search_term.replace(' ', '+')\n",
    "    \n",
    "    url = template.format(search_term)\n",
    "    \n",
    "    #Placeholder\n",
    "    url += '&page{}'\n",
    "    \n",
    "    return url"
   ]
  },
  {
   "cell_type": "code",
   "execution_count": 19,
   "id": "6479d38d",
   "metadata": {},
   "outputs": [],
   "source": [
    "# Define function to do all\n",
    "import csv\n",
    "from bs4 import BeautifulSoup\n",
    "from selenium import webdriver\n",
    "\n",
    "def get_url(search_term):\n",
    "    \n",
    "    template = 'https://www.amazon.com/s?k={}&sprefix=migraine%2Caps%2C140&ref=nb_sb_ss_ts-doa-p_1_8'\n",
    "    search_term = search_term.replace(' ', '+')\n",
    "    \n",
    "    url = template.format(search_term)\n",
    "    \n",
    "    #Placeholder\n",
    "    url += '&page{}'\n",
    "    \n",
    "    return url\n",
    "\n",
    "def extract_record(item):\n",
    "    \n",
    "    #Description and url\n",
    "    atag = item.h2.a\n",
    "    description = atag.text.strip()\n",
    "    url = 'https://amazon.com' + atag.get('href')\n",
    "    \n",
    "    #Price\n",
    "    try:\n",
    "        price_parent = item.find('span', 'a-price')\n",
    "        price = price_parent.find('span', 'a-offscreen').text\n",
    "    except AttributeError:\n",
    "        return\n",
    "    \n",
    "    #Review Count\n",
    "    try:\n",
    "        rating = item.i.text\n",
    "        review_count = item.find('span', {'class':'a-size-base s-underline-text'}).text\n",
    "    except AttributeError:\n",
    "        rating = ''\n",
    "        review_count = ''\n",
    "    \n",
    "    result = (description, price, rating, review_count, url)\n",
    "    \n",
    "    return result\n",
    "\n",
    "def main(search_term):\n",
    "    driver = webdriver.Chrome()\n",
    "    \n",
    "    records = []\n",
    "    url = get_url(search_term)\n",
    "    \n",
    "    for page in range(1,21):\n",
    "        driver.get(url.format(page))\n",
    "        soup = BeautifulSoup(driver.page_source, 'html.parser')\n",
    "        results = soup.find_all('div', {'data-component-type': 's-search-result'})\n",
    "        \n",
    "        for item in results:\n",
    "            record = extract_record(item)\n",
    "            if record:\n",
    "                records.append(record)\n",
    "                \n",
    "    driver.close()\n",
    "    \n",
    "    #save data to csv file\n",
    "    \n",
    "    with open('results.csv', 'w', newline='', encoding='utf-8') as f:\n",
    "        writer = csv.writer(f)\n",
    "        writer.writerow(['Description', 'Price', 'Rating', 'ReviewCount', 'Url'])\n",
    "        writer.writerows(records)"
   ]
  },
  {
   "cell_type": "code",
   "execution_count": 20,
   "id": "e589ec59",
   "metadata": {},
   "outputs": [],
   "source": [
    "main('migraine relief cap')"
   ]
  },
  {
   "cell_type": "code",
   "execution_count": null,
   "id": "701c5628",
   "metadata": {},
   "outputs": [],
   "source": []
  }
 ],
 "metadata": {
  "kernelspec": {
   "display_name": "Python 3 (ipykernel)",
   "language": "python",
   "name": "python3"
  },
  "language_info": {
   "codemirror_mode": {
    "name": "ipython",
    "version": 3
   },
   "file_extension": ".py",
   "mimetype": "text/x-python",
   "name": "python",
   "nbconvert_exporter": "python",
   "pygments_lexer": "ipython3",
   "version": "3.9.13"
  }
 },
 "nbformat": 4,
 "nbformat_minor": 5
}
